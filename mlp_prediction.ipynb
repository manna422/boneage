{
 "cells": [
  {
   "cell_type": "code",
   "execution_count": 1,
   "metadata": {},
   "outputs": [],
   "source": [
    "import numpy as np\n",
    "import matplotlib.pyplot as plt\n",
    "from sklearn.model_selection import train_test_split\n",
    "\n",
    "%matplotlib inline\n",
    "\n",
    "dataset_x = np.load('./preprocessed_x.npy')\n",
    "dataset_y = np.load('./preprocessed_y.npy')"
   ]
  },
  {
   "cell_type": "code",
   "execution_count": 3,
   "metadata": {},
   "outputs": [],
   "source": [
    "X_tr, X_ts, Y_tr, Y_ts = train_test_split(dataset_x, dataset_y, test_size = 0.1)"
   ]
  },
  {
   "cell_type": "code",
   "execution_count": 20,
   "metadata": {},
   "outputs": [],
   "source": [
    "from sklearn.neural_network import MLPRegressor\n",
    "\n",
    "clf = MLPRegressor(solver='lbfgs', hidden_layer_sizes=(10, 10), random_state=1, learning_rate_init=0.01, max_iter=50000, verbose=True)\n",
    "clf.fit(X_tr, Y_tr)\n",
    "\n",
    "predictions = clf.predict(X_ts)"
   ]
  },
  {
   "cell_type": "code",
   "execution_count": 25,
   "metadata": {},
   "outputs": [
    {
     "name": "stdout",
     "output_type": "stream",
     "text": [
      "Max Error: 171.52405546971966\n",
      "Average Error: 25.058248324447387\n",
      "Ratio Correct to +/- 12 months: 32.17115689381934%\n",
      "Ratio Correct to +/- 24 months: 57.36925515055468%\n",
      "Ratio Correct to +/- 36 months: 76.46592709984152%\n",
      "Ratio Correct to +/- 48 months: 86.60855784469096%\n"
     ]
    },
    {
     "data": {
      "text/plain": [
       "[0, 250, 0, 250]"
      ]
     },
     "execution_count": 25,
     "metadata": {},
     "output_type": "execute_result"
    },
    {
     "data": {
      "image/png": "[encoded data removed]",
      "text/plain": [
       "<matplotlib.figure.Figure at 0x10d67d080>"
      ]
     },
     "metadata": {},
     "output_type": "display_data"
    }
   ],
   "source": [
    "pairs = (list((zip(Y_ts, predictions))))\n",
    "\n",
    "max_error = max([abs(pair[0] - pair[1]) for pair in pairs])\n",
    "print (f'Max Error: {max_error}')\n",
    "\n",
    "average_error = sum([abs(pair[0] - pair[1]) for pair in pairs])/len(pairs)\n",
    "print (f'Average Error: {average_error}')\n",
    "\n",
    "\n",
    "for month_threshold in [12, 24, 36, 48]:\n",
    "    month_threshold_ratio = (len([\n",
    "                                pair for pair in pairs \n",
    "                                if (abs(pair[0] - pair[1]) <= month_threshold)\n",
    "                             ]) /\n",
    "                             len(pairs) * 100)\n",
    "    print (f'Ratio Correct to +/- {month_threshold} months: {month_threshold_ratio}%')\n",
    "\n",
    "\n",
    "plt.scatter(Y_ts, predictions)\n",
    "plt.axis('equal')\n",
    "plt.axis([0, 250, 0, 250])"
   ]
  },
  {
   "cell_type": "code",
   "execution_count": null,
   "metadata": {},
   "outputs": [],
   "source": []
  }
 ],
 "metadata": {
  "kernelspec": {
   "display_name": "Python 3",
   "language": "python",
   "name": "python3"
  },
  "language_info": {
   "codemirror_mode": {
    "name": "ipython",
    "version": 3
   },
   "file_extension": ".py",
   "mimetype": "text/x-python",
   "name": "python",
   "nbconvert_exporter": "python",
   "pygments_lexer": "ipython3",
   "version": "3.6.4"
  }
 },
 "nbformat": 4,
 "nbformat_minor": 2
}
