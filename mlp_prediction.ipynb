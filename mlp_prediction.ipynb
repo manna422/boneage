{
 "cells": [
  {
   "cell_type": "code",
   "execution_count": 1,
   "metadata": {},
   "outputs": [],
   "source": [
    "import numpy as np\n",
    "import matplotlib.pyplot as plt\n",
    "from sklearn.model_selection import train_test_split\n",
    "\n",
    "%matplotlib inline\n",
    "\n",
    "dataset_x = np.load('./preprocessed_x.npy')\n",
    "dataset_y = np.load('./preprocessed_y.npy')"
   ]
  },
  {
   "cell_type": "code",
   "execution_count": 3,
   "metadata": {},
   "outputs": [],
   "source": [
    "X_tr, X_ts, Y_tr, Y_ts = train_test_split(dataset_x, dataset_y, test_size = 0.1)"
   ]
  },
  {
   "cell_type": "code",
   "execution_count": 4,
   "metadata": {},
   "outputs": [],
   "source": [
    "from sklearn.neural_network import MLPRegressor\n",
    "\n",
    "clf = MLPRegressor(solver='lbfgs', hidden_layer_sizes=(10, 10), random_state=1, learning_rate_init=0.01, max_iter=5000, verbose=True)\n",
    "clf.fit(X_tr, Y_tr)\n",
    "\n",
    "predictions = clf.predict(X_ts)"
   ]
  },
  {
   "cell_type": "code",
   "execution_count": 14,
   "metadata": {},
   "outputs": [
    {
     "name": "stdout",
     "output_type": "stream",
     "text": [
      "Max Error: 122.95021753956001\n",
      "Average Error: 29.618706489001486\n",
      "Ratio Correct to +/- 36 months: 0.6885895404120443\n",
      "\n"
     ]
    },
    {
     "data": {
      "text/plain": [
       "(array([ 12.,  31.,  70., 109., 170., 277., 350., 166.,  62.,  15.]),\n",
       " array([-122.95021754, -101.06574939,  -79.18128125,  -57.2968131 ,\n",
       "         -35.41234495,  -13.52787681,    8.35659134,   30.24105948,\n",
       "          52.12552763,   74.00999578,   95.89446392]),\n",
       " <a list of 10 Patch objects>)"
      ]
     },
     "execution_count": 14,
     "metadata": {},
     "output_type": "execute_result"
    },
    {
     "data": {
      "image/png": "[encoded data removed]",
      "text/plain": [
       "<matplotlib.figure.Figure at 0x10cfc2be0>"
      ]
     },
     "metadata": {},
     "output_type": "display_data"
    }
   ],
   "source": [
    "pairs = (list((zip(Y_ts, predictions))))\n",
    "\n",
    "max_error = max([abs(pair[0] - pair[1]) for pair in pairs])\n",
    "print (f'Max Error: {max_error}')\n",
    "\n",
    "average_error = sum([abs(pair[0] - pair[1]) for pair in pairs])/len(pairs)\n",
    "print (f'Average Error: {average_error}')\n",
    "\n",
    "month_threshold = 36\n",
    "month_threshold_ratio = (len([\n",
    "                            pair for pair in pairs \n",
    "                            if (abs(pair[0] - pair[1]) <= month_threshold)\n",
    "                         ]) /\n",
    "                         len(pairs))\n",
    "print (f'Ratio Correct to +/- {month_threshold} months: {month_threshold_ratio}')\n",
    "print ()\n",
    "\n",
    "plt.hist([(pair[0] - pair[1]) for pair in pairs])"
   ]
  },
  {
   "cell_type": "code",
   "execution_count": null,
   "metadata": {},
   "outputs": [],
   "source": []
  }
 ],
 "metadata": {
  "kernelspec": {
   "display_name": "Python 3",
   "language": "python",
   "name": "python3"
  },
  "language_info": {
   "codemirror_mode": {
    "name": "ipython",
    "version": 3
   },
   "file_extension": ".py",
   "mimetype": "text/x-python",
   "name": "python",
   "nbconvert_exporter": "python",
   "pygments_lexer": "ipython3",
   "version": "3.6.4"
  }
 },
 "nbformat": 4,
 "nbformat_minor": 2
}
