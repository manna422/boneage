{
 "cells": [
  {
   "cell_type": "code",
   "execution_count": 4,
   "metadata": {},
   "outputs": [],
   "source": [
    "import numpy as np\n",
    "import matplotlib.pyplot as plt\n",
    "from sklearn.model_selection import train_test_split\n",
    "\n",
    "%matplotlib inline\n",
    "\n",
    "dataset_x = np.load('./preprocessed_x.npy')\n",
    "dataset_y = np.load('./preprocessed_y.npy')"
   ]
  },
  {
   "cell_type": "code",
   "execution_count": 5,
   "metadata": {},
   "outputs": [],
   "source": [
    "X_tr, X_ts, Y_tr, Y_ts = train_test_split(dataset_x, dataset_y, test_size = 0.1)"
   ]
  },
  {
   "cell_type": "code",
   "execution_count": 6,
   "metadata": {
    "collapsed": true
   },
   "outputs": [],
   "source": [
    "from sklearn.neural_network import MLPRegressor\n",
    "\n",
    "clf = MLPRegressor(solver='lbfgs', hidden_layer_sizes=(10, 10), random_state=1, learning_rate_init=0.01, max_iter=50000, verbose=True)\n",
    "clf.fit(X_tr, Y_tr)\n",
    "\n",
    "predictions = clf.predict(X_ts)"
   ]
  },
  {
   "cell_type": "code",
   "execution_count": 7,
   "metadata": {},
   "outputs": [
    {
     "name": "stdout",
     "output_type": "stream",
     "text": [
      "Max Error: 117.78478086157793\n",
      "Average Error: 28.911125715149392\n",
      "Ratio Correct to +/- 12 months: 26.70364500792393%\n",
      "Ratio Correct to +/- 24 months: 50.079239302694134%\n",
      "Ratio Correct to +/- 36 months: 67.35340729001584%\n",
      "Ratio Correct to +/- 48 months: 80.5863708399366%\n"
     ]
    },
    {
     "data": {
      "text/plain": [
       "[0, 250, 0, 250]"
      ]
     },
     "execution_count": 7,
     "metadata": {},
     "output_type": "execute_result"
    },
    {
     "data": {
      "image/png": "[encoded data removed]",
      "text/plain": [
       "<matplotlib.figure.Figure at 0x25990f483c8>"
      ]
     },
     "metadata": {},
     "output_type": "display_data"
    }
   ],
   "source": [
    "pairs = (list((zip(Y_ts, predictions))))\n",
    "\n",
    "max_error = max([abs(pair[0] - pair[1]) for pair in pairs])\n",
    "print (f'Max Error: {max_error}')\n",
    "\n",
    "average_error = sum([abs(pair[0] - pair[1]) for pair in pairs])/len(pairs)\n",
    "print (f'Average Error: {average_error}')\n",
    "\n",
    "\n",
    "for month_threshold in [12, 24, 36, 48]:\n",
    "    month_threshold_ratio = (len([\n",
    "                                pair for pair in pairs \n",
    "                                if (abs(pair[0] - pair[1]) <= month_threshold)\n",
    "                             ]) /\n",
    "                             len(pairs) * 100)\n",
    "    print (f'Ratio Correct to +/- {month_threshold} months: {month_threshold_ratio}%')\n",
    "\n",
    "\n",
    "plt.scatter(Y_ts, predictions)\n",
    "plt.axis('equal')\n",
    "plt.axis([0, 250, 0, 250])"
   ]
  },
  {
   "cell_type": "code",
   "execution_count": null,
   "metadata": {
    "collapsed": true
   },
   "outputs": [],
   "source": []
  }
 ],
 "metadata": {
  "kernelspec": {
   "display_name": "Python 3",
   "language": "python",
   "name": "python3"
  },
  "language_info": {
   "codemirror_mode": {
    "name": "ipython",
    "version": 3
   },
   "file_extension": ".py",
   "mimetype": "text/x-python",
   "name": "python",
   "nbconvert_exporter": "python",
   "pygments_lexer": "ipython3",
   "version": "3.6.3"
  },
  "varInspector": {
   "cols": {
    "lenName": 16,
    "lenType": 16,
    "lenVar": 40
   },
   "kernels_config": {
    "python": {
     "delete_cmd_postfix": "",
     "delete_cmd_prefix": "del ",
     "library": "var_list.py",
     "varRefreshCmd": "print(var_dic_list())"
    },
    "r": {
     "delete_cmd_postfix": ") ",
     "delete_cmd_prefix": "rm(",
     "library": "var_list.r",
     "varRefreshCmd": "cat(var_dic_list()) "
    }
   },
   "types_to_exclude": [
    "module",
    "function",
    "builtin_function_or_method",
    "instance",
    "_Feature"
   ],
   "window_display": false
  }
 },
 "nbformat": 4,
 "nbformat_minor": 2
}
